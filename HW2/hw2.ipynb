{
  "nbformat": 4,
  "nbformat_minor": 0,
  "metadata": {
    "colab": {
      "name": "hw2.ipynb",
      "version": "0.3.2",
      "provenance": [],
      "collapsed_sections": []
    },
    "kernelspec": {
      "name": "python3",
      "display_name": "Python 3"
    }
  },
  "cells": [
    {
      "metadata": {
        "id": "otv8Rv7Axou2",
        "colab_type": "code",
        "outputId": "1d7329f5-c0c7-4836-e403-b29e1d05f9e7",
        "colab": {
          "base_uri": "https://localhost:8080/",
          "height": 170
        }
      },
      "cell_type": "code",
      "source": [
        "import numpy as np\n",
        "from scipy.misc import derivative\n",
        "from math import sin, cos\n",
        "\n",
        "\n",
        "## Problem 1\n",
        "\n",
        "def f(x):\n",
        "  return 1/x\n",
        "\n",
        "def f1(x,c):\n",
        "  return x + c\n",
        "\n",
        "def deriv_f1(x):\n",
        "  return 1\n",
        "\n",
        "def f2(x):\n",
        "  return x*x\n",
        "\n",
        "def f3(x):\n",
        "  return sin(x)\n",
        "\n",
        "def f4(x, c):\n",
        "  return c*x\n",
        "\n",
        "def deriv_f4(c):\n",
        "  return c\n",
        "\n",
        "def deriv(f, x):\n",
        "  return derivative(f, x, dx=1e-6)\n",
        "\n",
        "x1 = 0\n",
        "w1 = 2\n",
        "x2 = 0\n",
        "w2 = 1\n",
        "\n",
        "x2w2_out = cos(w2*x2)+2\n",
        "forward_x1 = np.zeros(6)\n",
        "\n",
        "print(\"The input: x1={}, w1={}, x2={}, w2={}\\n\".format(x1,w1,x2,w2))\n",
        "\n",
        "for i in range(6):\n",
        "  forward_x1[0] = x1\n",
        "  forward_x1[1] = f4(forward_x1[0], w1)\n",
        "  forward_x1[2] = f3(forward_x1[1])\n",
        "  forward_x1[3] = f2(forward_x1[2])\n",
        "  forward_x1[4] = f1(forward_x1[3], x2w2_out)\n",
        "  forward_x1[5] = f(forward_x1[4])\n",
        "\n",
        "print(\"Forward calculation for x1:\\t\\t\", forward_x1)\n",
        "\n",
        "back_x1 = np.ones(6)\n",
        "for i in range(6):\n",
        "  back_x1[5] = 1\n",
        "  back_x1[4] = back_x1[5] * deriv(f, forward_x1[4])\n",
        "  back_x1[3] = back_x1[4] * deriv_f1(forward_x1[3])\n",
        "  back_x1[2] = back_x1[3] * deriv(f2, forward_x1[2])\n",
        "  back_x1[1] = back_x1[2] * deriv(f3, forward_x1[1])\n",
        "  back_x1[0] = back_x1[1] * deriv_f4(forward_x1[0])\n",
        "  \n",
        "print(\"Back propagation for x1:\\t\\t\", back_x1)\n",
        "print(\"partial derivative with respect to x1:\\t\\t\", back_x1[0])\n",
        "\n",
        "\n",
        "forward_w1 = forward_x1.copy()\n",
        "forward_w1[0] = w1\n",
        "print(\"\\nForward calculation for w1:\\t\\t\", forward_w1)\n",
        "\n",
        "back_w1 = np.ones(6)\n",
        "for i in range(6):\n",
        "  back_w1[5] = 1\n",
        "  back_w1[4] = back_w1[5] * deriv(f, forward_w1[4])\n",
        "  back_w1[3] = back_w1[4] * deriv_f1(forward_w1[3])\n",
        "  back_w1[2] = back_w1[3] * deriv(f2, forward_w1[2])\n",
        "  back_w1[1] = back_w1[2] * deriv(f3, forward_w1[1])\n",
        "  back_w1[0] = back_w1[1] * deriv_f4(forward_w1[0])\n",
        "  \n",
        "print(\"Back propagation for x1:\\t\\t\", back_w1)\n",
        "print(\"partial derivative with respect to x1:\\t\\t\", back_w1[0])\n"
      ],
      "execution_count": 0,
      "outputs": [
        {
          "output_type": "stream",
          "text": [
            "The input: x1=0, w1=2, x2=0, w2=1\n",
            "\n",
            "Forward calculation for x1:\t\t [0.         0.         0.         0.         3.         0.33333333]\n",
            "Back propagation for x1:\t\t [-0.         -0.         -0.         -0.11111111 -0.11111111  1.        ]\n",
            "partial derivative with respect to x1:\t\t -0.0\n",
            "\n",
            "Forward calculation for w1:\t\t [2.         0.         0.         0.         3.         0.33333333]\n",
            "Back propagation for x1:\t\t [-0.         -0.         -0.         -0.11111111 -0.11111111  1.        ]\n",
            "partial derivative with respect to x1:\t\t -0.0\n"
          ],
          "name": "stdout"
        }
      ]
    },
    {
      "metadata": {
        "id": "8kn14wmr5VqY",
        "colab_type": "code",
        "outputId": "9bc0c6d5-d87b-40f3-a903-b94e2db46ae5",
        "colab": {
          "base_uri": "https://localhost:8080/",
          "height": 102
        }
      },
      "cell_type": "code",
      "source": [
        "## Problem 2\n",
        "\n",
        "w = np.array([[0.1,0.2,0.3],[-0.4,0.5,0.6],[-0.7,-0.8,0.9]])\n",
        "x = np.array([[1],[1],[1]])\n",
        "\n",
        "\n",
        "def L2(yhat, y):\n",
        "    t = np.abs(yhat-y).flatten()\n",
        "    loss = np.dot(t, t)/y.size\n",
        "    return loss\n",
        "\n",
        "def sigmoid(x):\n",
        "    s = 1 / (1 + np.exp(-x))    \n",
        "    return s\n",
        "\n",
        "def matrix_mul(first, second):\n",
        "  return np.matmul(first, second)\n",
        "\n",
        "\n",
        "## Derivatives of all functions used from above\n",
        "def L2_prime(x):\n",
        "  return 2*x\n",
        "\n",
        "def sigmoid_derivative(x):\n",
        "    s = 1 / (1 + np.exp(-x))\n",
        "    ds = s * (1 - s)    \n",
        "    return ds\n",
        "\n",
        "## todo TEST IT LATER\n",
        "def mul_x_derivative(x, q):\n",
        "  result = []\n",
        "  for i in q:\n",
        "    t = i * x.flatten()\n",
        "    result = np.append(result, t)\n",
        "  return np.reshape((x.size, q.size))\n",
        "  \n",
        "\n",
        "\n",
        "wx = matrix_mul(w, x)\n",
        "sig = sigmoid(wx)\n",
        "l2_loss = L2(sig, x)\n",
        "print(\"Forward calculation:\", l2_loss)\n",
        "\n",
        "\n",
        "before_l2 = 2*sig*sig*1\n",
        "before_sig = before_l2 * (1-sig) * sig\n",
        "back_result = np.matmul(w.T, before_sig)\n",
        "print(\"Final result for back propagation:\\n\", back_result)"
      ],
      "execution_count": 0,
      "outputs": [
        {
          "output_type": "stream",
          "text": [
            "Forward calculation: 0.21751029120847007\n",
            "Final result for back propagation:\n",
            " [[-0.10033307]\n",
            " [ 0.0911771 ]\n",
            " [ 0.22771818]]\n"
          ],
          "name": "stdout"
        }
      ]
    },
    {
      "metadata": {
        "id": "PcDU35mKo_Qr",
        "colab_type": "code",
        "colab": {}
      },
      "cell_type": "code",
      "source": [
        ""
      ],
      "execution_count": 0,
      "outputs": []
    }
  ]
}