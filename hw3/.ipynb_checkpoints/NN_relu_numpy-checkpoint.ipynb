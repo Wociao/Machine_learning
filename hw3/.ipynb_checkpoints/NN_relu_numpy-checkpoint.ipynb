{
 "cells": [
  {
   "cell_type": "code",
   "execution_count": 1,
   "metadata": {},
   "outputs": [],
   "source": [
    "from __future__ import print_function\n",
    "import numpy as np\n",
    "import pickle\n",
    "from tqdm import trange"
   ]
  },
  {
   "cell_type": "code",
   "execution_count": 2,
   "metadata": {},
   "outputs": [],
   "source": [
    "# Util functions:\n",
    "def load(file_name):\n",
    "    with open(file_name,'rb') as f:\n",
    "        mnist = pickle.load(f)\n",
    "    training_images, training_labels, testing_images, testing_labels = mnist[\"training_images\"], mnist[\"training_labels\"], mnist[\"test_images\"], mnist[\"test_labels\"]\n",
    "    \n",
    "    # Normalize the images\n",
    "    training_images.astype('float32')\n",
    "    testing_images.astype('float32')\n",
    "    training_images = training_images/255.\n",
    "    testing_images = testing_images/255.\n",
    "    return training_images, training_labels, testing_images, testing_labels\n",
    "\n",
    "def softmax(z):\n",
    "    return np.exp(z) / np.sum(np.exp(z))\n",
    "\n",
    "def softmax_prime(z):\n",
    "    return softmax(z) * (1 - softmax(z))\n",
    "\n",
    "def relu(z):\n",
    "    return np.maximum(z, 0)\n",
    "\n",
    "# return 1 or 0\n",
    "def relu_prime(z):\n",
    "    return (z > 0)\n",
    "\n",
    "#     Forward equations:\n",
    "#     z1 = x.w1+b1\n",
    "#     a1 = relu(z1)\n",
    "\n",
    "#     z2 = a1.w2+b2\n",
    "#     a2 = relu(z2)\n",
    "\n",
    "#     z3 = a2.w3+b3\n",
    "#     a3 = softmax(z3)\n",
    "\n",
    "#     Back propagation equations:\n",
    "\n",
    "#     There is no z3_delta and softmax_derv(a3), as explained before.\n",
    "#     a3_delta = a3-y    \n",
    "\n",
    "#     z2_delta = a3_delta.w3.T\n",
    "#     a2_delta = z2_delta.relu_prime(a2)\n",
    "\n",
    "#     z1_delta = a2_delta.w2.T\n",
    "#     a1_delta = z1_delta.relu_prime(a1)"
   ]
  },
  {
   "cell_type": "code",
   "execution_count": 8,
   "metadata": {},
   "outputs": [],
   "source": [
    "class Dense:\n",
    "    def __init__(self, input_units, output_units, learning_rate=0.15):\n",
    "        self.learning_rate = learning_rate\n",
    "        \n",
    "        self.weights = np.random.randn(input_units, output_units)*0.1\n",
    "        self.biases = np.zeros(output_units) + 0.01\n",
    "        \n",
    "    def forward(self,input):\n",
    "        return np.matmul(input, self.weights) + self.biases\n",
    "      \n",
    "    def backward(self,input,grad_output):\n",
    "        grad_input = np.dot(grad_output,np.transpose(self.weights))\n",
    "\n",
    "        grad_weights = np.transpose(np.dot(np.transpose(grad_output),input))\n",
    "        grad_biases = np.sum(grad_output, axis = 0)\n",
    "        \n",
    "        self.weights -= self.learning_rate * grad_weights\n",
    "        self.biases -= self.learning_rate * grad_biases\n",
    "        return grad_input"
   ]
  },
  {
   "cell_type": "code",
   "execution_count": 9,
   "metadata": {},
   "outputs": [],
   "source": [
    "class ReLU:\n",
    "    def __init__(self):\n",
    "        pass\n",
    "    \n",
    "    def forward(self, input):\n",
    "        return relu(input)\n",
    "\n",
    "    def backward(self, input, output):\n",
    "        return output*relu_prime(input)\n",
    "\n"
   ]
  },
  {
   "cell_type": "code",
   "execution_count": 10,
   "metadata": {},
   "outputs": [],
   "source": [
    "def softmax_crossentropy(X, y):\n",
    "    m = y.shape[0]\n",
    "    p = softmax(X)\n",
    "    log_likelihood = -np.log(p[range(m), y])\n",
    "    loss = np.sum(log_likelihood) / m\n",
    "    return loss\n",
    "\n",
    "def grad_softmax_crossentropy(X, y):\n",
    "    ones_for_answers = np.zeros_like(X)\n",
    "    ones_for_answers[np.arange(len(X)),y] = 1\n",
    "    \n",
    "    p = np.exp(X) / np.exp(X).sum(axis=-1,keepdims=True)\n",
    "    return (- ones_for_answers + p) / X.shape[0]"
   ]
  },
  {
   "cell_type": "code",
   "execution_count": 11,
   "metadata": {},
   "outputs": [],
   "source": [
    "def forward(network, X):\n",
    "    forward_propagation = []\n",
    "    for i in range(len(network)):\n",
    "        X = network[i].forward(X)\n",
    "        forward_propagation.append(X)\n",
    "    return forward_propagation\n",
    "\n",
    "def predict(network,X):\n",
    "    indice = forward(network,X)[-1]\n",
    "    return indice.argmax(axis=-1)\n",
    "\n",
    "def train(network,X,y):\n",
    "    # Get the layer activations\n",
    "    layer_activations = forward(network,X)\n",
    "    layer_inputs = [X]+layer_activations  #layer_input[i] is an input for network[i]\n",
    "    out = layer_activations[-1]\n",
    "    \n",
    "    # Compute the loss and the initial gradient\n",
    "    loss = softmax_crossentropy(out,y)\n",
    "    loss_grad = grad_softmax_crossentropy(out,y)\n",
    "    \n",
    "    for i in range(1, len(network)):\n",
    "        loss_grad = network[len(network) - i].backward(layer_activations[len(network) - i - 1], loss_grad)\n",
    "    "
   ]
  },
  {
   "cell_type": "code",
   "execution_count": 12,
   "metadata": {},
   "outputs": [
    {
     "name": "stderr",
     "output_type": "stream",
     "text": [
      "  7%|▋         | 131/1875 [00:00<00:01, 1303.90it/s]"
     ]
    },
    {
     "name": "stdout",
     "output_type": "stream",
     "text": [
      "training_image shape: (60000, 784)\n",
      "Number of images in training set: 60000\n",
      "Number of images in testing set: 10000\n"
     ]
    },
    {
     "name": "stderr",
     "output_type": "stream",
     "text": [
      "100%|██████████| 1875/1875 [00:01<00:00, 1134.73it/s]\n",
      "  2%|▏         | 43/1875 [00:00<00:04, 417.61it/s]"
     ]
    },
    {
     "name": "stdout",
     "output_type": "stream",
     "text": [
      "Epoch 0\n",
      "Train accuracy: 0.9184\n",
      "Val accuracy: 0.9181\n"
     ]
    },
    {
     "name": "stderr",
     "output_type": "stream",
     "text": [
      "100%|██████████| 1875/1875 [00:01<00:00, 969.59it/s] \n",
      "  2%|▏         | 39/1875 [00:00<00:04, 389.62it/s]"
     ]
    },
    {
     "name": "stdout",
     "output_type": "stream",
     "text": [
      "Epoch 1\n",
      "Train accuracy: 0.9366\n",
      "Val accuracy: 0.9314\n"
     ]
    },
    {
     "name": "stderr",
     "output_type": "stream",
     "text": [
      "100%|██████████| 1875/1875 [00:01<00:00, 1004.82it/s]\n",
      "  3%|▎         | 55/1875 [00:00<00:03, 546.33it/s]"
     ]
    },
    {
     "name": "stdout",
     "output_type": "stream",
     "text": [
      "Epoch 2\n",
      "Train accuracy: 0.9416333333333333\n",
      "Val accuracy: 0.9389\n"
     ]
    },
    {
     "name": "stderr",
     "output_type": "stream",
     "text": [
      "100%|██████████| 1875/1875 [00:01<00:00, 1111.78it/s]\n",
      "  3%|▎         | 49/1875 [00:00<00:03, 472.49it/s]"
     ]
    },
    {
     "name": "stdout",
     "output_type": "stream",
     "text": [
      "Epoch 3\n",
      "Train accuracy: 0.9494833333333333\n",
      "Val accuracy: 0.9443\n"
     ]
    },
    {
     "name": "stderr",
     "output_type": "stream",
     "text": [
      "100%|██████████| 1875/1875 [00:01<00:00, 1067.43it/s]\n",
      "  3%|▎         | 49/1875 [00:00<00:03, 486.33it/s]"
     ]
    },
    {
     "name": "stdout",
     "output_type": "stream",
     "text": [
      "Epoch 4\n",
      "Train accuracy: 0.9527166666666667\n",
      "Val accuracy: 0.9448\n"
     ]
    },
    {
     "name": "stderr",
     "output_type": "stream",
     "text": [
      "100%|██████████| 1875/1875 [00:01<00:00, 1189.80it/s]\n",
      "  3%|▎         | 52/1875 [00:00<00:03, 517.91it/s]"
     ]
    },
    {
     "name": "stdout",
     "output_type": "stream",
     "text": [
      "Epoch 5\n",
      "Train accuracy: 0.9548166666666666\n",
      "Val accuracy: 0.9452\n"
     ]
    },
    {
     "name": "stderr",
     "output_type": "stream",
     "text": [
      "100%|██████████| 1875/1875 [00:01<00:00, 1083.50it/s]\n",
      "  4%|▍         | 83/1875 [00:00<00:02, 822.88it/s]"
     ]
    },
    {
     "name": "stdout",
     "output_type": "stream",
     "text": [
      "Epoch 6\n",
      "Train accuracy: 0.9572666666666667\n",
      "Val accuracy: 0.9477\n"
     ]
    },
    {
     "name": "stderr",
     "output_type": "stream",
     "text": [
      "100%|██████████| 1875/1875 [00:01<00:00, 1025.92it/s]\n",
      "  4%|▍         | 79/1875 [00:00<00:02, 783.62it/s]"
     ]
    },
    {
     "name": "stdout",
     "output_type": "stream",
     "text": [
      "Epoch 7\n",
      "Train accuracy: 0.9609666666666666\n",
      "Val accuracy: 0.9506\n"
     ]
    },
    {
     "name": "stderr",
     "output_type": "stream",
     "text": [
      "100%|██████████| 1875/1875 [00:01<00:00, 983.25it/s] \n",
      "  4%|▍         | 81/1875 [00:00<00:02, 804.87it/s]"
     ]
    },
    {
     "name": "stdout",
     "output_type": "stream",
     "text": [
      "Epoch 8\n",
      "Train accuracy: 0.9618833333333333\n",
      "Val accuracy: 0.9503\n"
     ]
    },
    {
     "name": "stderr",
     "output_type": "stream",
     "text": [
      "100%|██████████| 1875/1875 [00:01<00:00, 1049.77it/s]\n"
     ]
    },
    {
     "name": "stdout",
     "output_type": "stream",
     "text": [
      "Epoch 9\n",
      "Train accuracy: 0.9636333333333333\n",
      "Val accuracy: 0.9508\n"
     ]
    }
   ],
   "source": [
    "def main():\n",
    "    # Load the dataset\n",
    "    file_name = 'data/mnist.pkl'\n",
    "\n",
    "    X_train, y_train, X_test, y_test = load(file_name)\n",
    "\n",
    "    print('training_image shape:', X_train.shape)\n",
    "    print('Number of images in training set:', X_train.shape[0])\n",
    "    print('Number of images in testing set:', X_test.shape[0])\n",
    "\n",
    "    network = []\n",
    "    network.append(Dense(784,200))\n",
    "    network.append(ReLU())\n",
    "    network.append(Dense(200,50))\n",
    "    network.append(ReLU())\n",
    "    network.append(Dense(50,10))\n",
    "    batchsize = 32\n",
    "    train_log = []\n",
    "    val_log = []\n",
    "    \n",
    "    for epoch in range(10):\n",
    "\n",
    "        for start_idx in trange(0, len(X_train) - batchsize + 1, batchsize):\n",
    "            excerpt = slice(start_idx, start_idx + batchsize)\n",
    "            x_batch,y_batch =  X_train[excerpt], y_train[excerpt]\n",
    "            train(network,x_batch,y_batch)\n",
    "        \n",
    "        train_log.append(np.mean(predict(network,X_train)==y_train))\n",
    "        val_log.append(np.mean(predict(network,X_test)==y_test))\n",
    "\n",
    "        print(\"Epoch\",epoch)\n",
    "        print(\"Train accuracy:\",train_log[-1])\n",
    "        print(\"Val accuracy:\",val_log[-1])\n",
    "\n",
    "\n",
    "if __name__ == '__main__':\n",
    "    main()"
   ]
  },
  {
   "cell_type": "code",
   "execution_count": null,
   "metadata": {},
   "outputs": [],
   "source": []
  },
  {
   "cell_type": "code",
   "execution_count": null,
   "metadata": {},
   "outputs": [],
   "source": []
  }
 ],
 "metadata": {
  "kernelspec": {
   "display_name": "Python 3",
   "language": "python",
   "name": "python3"
  },
  "language_info": {
   "codemirror_mode": {
    "name": "ipython",
    "version": 3
   },
   "file_extension": ".py",
   "mimetype": "text/x-python",
   "name": "python",
   "nbconvert_exporter": "python",
   "pygments_lexer": "ipython3",
   "version": "3.6.8"
  }
 },
 "nbformat": 4,
 "nbformat_minor": 2
}
