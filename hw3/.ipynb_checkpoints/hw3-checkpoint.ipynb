{
 "cells": [
  {
   "cell_type": "code",
   "execution_count": 1,
   "metadata": {},
   "outputs": [],
   "source": [
    "import math\n",
    "import numpy as np\n",
    "import time\n",
    "from urllib import request\n",
    "import pickle\n",
    "import matplotlib.pyplot as plt"
   ]
  },
  {
   "cell_type": "code",
   "execution_count": 2,
   "metadata": {},
   "outputs": [],
   "source": [
    "# Util functions:\n",
    "def load():\n",
    "    with open(file_name,'rb') as f:\n",
    "        mnist = pickle.load(f)\n",
    "    return mnist[\"training_images\"], mnist[\"training_labels\"], mnist[\"test_images\"], mnist[\"test_labels\"]\n",
    "\n",
    "\n",
    "def softmax(z):\n",
    "    return np.exp(z) / np.sum(np.exp(z))\n",
    "\n",
    "\n",
    "def softmax_prime(z):\n",
    "    return softmax(z) * (1 - softmax(z))\n",
    "\n",
    "def relu(z):\n",
    "    return np.maximum(z, 0)\n",
    "\n",
    "\n",
    "# return 1 or 0\n",
    "def relu_prime(z):\n",
    "    return float(z > 0)\n"
   ]
  },
  {
   "cell_type": "code",
   "execution_count": 3,
   "metadata": {
    "scrolled": true
   },
   "outputs": [
    {
     "name": "stdout",
     "output_type": "stream",
     "text": [
      "training_image shape: (60000, 784)\n",
      "Number of images in training set: 60000\n",
      "Number of images in testing set: 10000\n"
     ]
    }
   ],
   "source": [
    "# # Load the training and testing dataset\n",
    "import tensorflow as tf\n",
    "file_name = 'data/mnist.pkl'\n",
    "\n",
    "training_images, training_labels, testing_images, testing_labels = load()\n",
    "\n",
    "# Normalize the data\n",
    "training_images.astype('float32')\n",
    "testing_images.astype('float32')\n",
    "training_images = training_images/255\n",
    "testing_images = testing_images/255\n",
    "\n",
    "print('training_image shape:', training_images.shape)\n",
    "print('Number of images in training set:', training_images.shape[0])\n",
    "print('Number of images in testing set:', testing_images.shape[0])\n"
   ]
  },
  {
   "cell_type": "code",
   "execution_count": 4,
   "metadata": {},
   "outputs": [],
   "source": [
    "# Initialize the weight\n",
    "weights = [np.random.randn(*w) * 0.1 for w in [(784, 200), (200, 50), (50,10)]]\n",
    "\n",
    "# Initialize epoch, batch_size, learning_rate\n",
    "epoch, batch_size, learning_rate = 10, 20, 0.01"
   ]
  },
  {
   "cell_type": "code",
   "execution_count": 6,
   "metadata": {},
   "outputs": [],
   "source": [
    "# def forward(X, weight):\n",
    "#     a = np.array([X])\n",
    "#     for w in weight:\n",
    "#         np.append(a, relu(a[-1].dot(np.array(w))))\n",
    "#     return a\n",
    "# X = [training_images[0:20]]\n",
    "# print(np.shape(X))\n",
    "\n",
    "# print(forward(X, weights))\n",
    "\n",
    "\n",
    "\n",
    "\n",
    "# print(\"output_layer\", output)\n",
    "\n",
    "\n",
    "# def forward(X, weight):\n",
    "#     first = relu(X.dot(weights[0]))\n",
    "#     second = relu(first.dot(weights[1]))\n",
    "#     output = softmax(second.dot(weights[2]))\n",
    "#     return (first_h ,second_h, output)\n"
   ]
  },
  {
   "cell_type": "code",
   "execution_count": 19,
   "metadata": {},
   "outputs": [
    {
     "name": "stdout",
     "output_type": "stream",
     "text": [
      "(20, 200)\n",
      "(20, 50)\n",
      "(20, 10)\n"
     ]
    },
    {
     "ename": "ValueError",
     "evalue": "could not broadcast input array from shape (20,200) into shape (20)",
     "output_type": "error",
     "traceback": [
      "\u001b[0;31m---------------------------------------------------------------------------\u001b[0m",
      "\u001b[0;31mValueError\u001b[0m                                Traceback (most recent call last)",
      "\u001b[0;32m<ipython-input-19-9a0376ea262f>\u001b[0m in \u001b[0;36m<module>\u001b[0;34m\u001b[0m\n\u001b[1;32m     83\u001b[0m         \u001b[0mX\u001b[0m\u001b[0;34m,\u001b[0m \u001b[0mY\u001b[0m \u001b[0;34m=\u001b[0m \u001b[0mtraining_images\u001b[0m\u001b[0;34m[\u001b[0m\u001b[0mj\u001b[0m\u001b[0;34m:\u001b[0m\u001b[0mj\u001b[0m\u001b[0;34m+\u001b[0m\u001b[0mbatch_size\u001b[0m\u001b[0;34m]\u001b[0m\u001b[0;34m,\u001b[0m \u001b[0mtraining_labels\u001b[0m\u001b[0;34m[\u001b[0m\u001b[0mj\u001b[0m\u001b[0;34m:\u001b[0m\u001b[0mj\u001b[0m\u001b[0;34m+\u001b[0m\u001b[0mbatch_size\u001b[0m\u001b[0;34m]\u001b[0m\u001b[0;34m\u001b[0m\u001b[0;34m\u001b[0m\u001b[0m\n\u001b[1;32m     84\u001b[0m \u001b[0;34m\u001b[0m\u001b[0m\n\u001b[0;32m---> 85\u001b[0;31m         \u001b[0mgrads\u001b[0m\u001b[0;34m(\u001b[0m\u001b[0mX\u001b[0m\u001b[0;34m,\u001b[0m \u001b[0mY\u001b[0m\u001b[0;34m,\u001b[0m \u001b[0mweights\u001b[0m\u001b[0;34m,\u001b[0m \u001b[0mbias\u001b[0m\u001b[0;34m)\u001b[0m\u001b[0;34m\u001b[0m\u001b[0;34m\u001b[0m\u001b[0m\n\u001b[0m\u001b[1;32m     86\u001b[0m \u001b[0;34m\u001b[0m\u001b[0m\n\u001b[1;32m     87\u001b[0m     \u001b[0mprediction\u001b[0m \u001b[0;34m=\u001b[0m \u001b[0mnp\u001b[0m\u001b[0;34m.\u001b[0m\u001b[0margmax\u001b[0m\u001b[0;34m(\u001b[0m\u001b[0mfeed_forward\u001b[0m\u001b[0;34m(\u001b[0m\u001b[0mtesting_images\u001b[0m\u001b[0;34m,\u001b[0m \u001b[0mweights\u001b[0m\u001b[0;34m,\u001b[0m \u001b[0mbias\u001b[0m\u001b[0;34m)\u001b[0m\u001b[0;34m[\u001b[0m\u001b[0;34m-\u001b[0m\u001b[0;36m1\u001b[0m\u001b[0;34m]\u001b[0m\u001b[0;34m,\u001b[0m \u001b[0maxis\u001b[0m\u001b[0;34m=\u001b[0m\u001b[0;36m1\u001b[0m\u001b[0;34m)\u001b[0m\u001b[0;34m\u001b[0m\u001b[0;34m\u001b[0m\u001b[0m\n",
      "\u001b[0;32m<ipython-input-19-9a0376ea262f>\u001b[0m in \u001b[0;36mgrads\u001b[0;34m(X, Y, weights, bias)\u001b[0m\n\u001b[1;32m     23\u001b[0m     \u001b[0ma\u001b[0m \u001b[0;34m=\u001b[0m \u001b[0mfeed_forward\u001b[0m\u001b[0;34m(\u001b[0m\u001b[0mX\u001b[0m\u001b[0;34m,\u001b[0m \u001b[0mweights\u001b[0m\u001b[0;34m,\u001b[0m \u001b[0mbias\u001b[0m\u001b[0;34m)\u001b[0m\u001b[0;34m\u001b[0m\u001b[0;34m\u001b[0m\u001b[0m\n\u001b[1;32m     24\u001b[0m \u001b[0;34m\u001b[0m\u001b[0m\n\u001b[0;32m---> 25\u001b[0;31m     \u001b[0mprint\u001b[0m\u001b[0;34m(\u001b[0m\u001b[0;34m\"something\"\u001b[0m\u001b[0;34m,\u001b[0m\u001b[0mnp\u001b[0m\u001b[0;34m.\u001b[0m\u001b[0marray\u001b[0m\u001b[0;34m(\u001b[0m\u001b[0ma\u001b[0m\u001b[0;34m)\u001b[0m\u001b[0;34m.\u001b[0m\u001b[0mshape\u001b[0m\u001b[0;34m)\u001b[0m\u001b[0;34m\u001b[0m\u001b[0;34m\u001b[0m\u001b[0m\n\u001b[0m\u001b[1;32m     26\u001b[0m \u001b[0;34m\u001b[0m\u001b[0m\n\u001b[1;32m     27\u001b[0m \u001b[0;31m#     Feed forward equations:\u001b[0m\u001b[0;34m\u001b[0m\u001b[0;34m\u001b[0m\u001b[0;34m\u001b[0m\u001b[0m\n",
      "\u001b[0;31mValueError\u001b[0m: could not broadcast input array from shape (20,200) into shape (20)"
     ]
    }
   ],
   "source": [
    "import numpy as np\n",
    "import mnist\n",
    "\n",
    "def feed_forward(X, weights, bias):\n",
    "    first = relu(X.dot(weights[0]) + bias[0])\n",
    "    print(first.shape)\n",
    "    \n",
    "    second = relu(first.dot(weights[1]) + bias[1])\n",
    "    print(second.shape)\n",
    "\n",
    "    output = softmax(second.dot(weights[2]) + bias[2])\n",
    "    print(output.shape)\n",
    "    return [first ,second, output]\n",
    "\n",
    "def cross_entropy(pred, real):\n",
    "    n_samples = np.array(real).shape[0]\n",
    "    res = pred - real\n",
    "    return res/n_samples\n",
    "\n",
    "\n",
    "def grads(X, Y, weights, bias):\n",
    "    grads = np.empty_like(weights)\n",
    "    a = feed_forward(X, weights, bias)\n",
    "    \n",
    "    \n",
    "    \n",
    "#     Feed forward equations:\n",
    "#     z1 = x.w1+b1\n",
    "#     a1 = relu(z1)\n",
    "\n",
    "#     z2 = a1.w2+b2\n",
    "#     a2 = relu(z2)\n",
    "\n",
    "#     z3 = a2.w3+b3\n",
    "#     a3 = softmax(z3)\n",
    "\n",
    "#     Back propagation equations:\n",
    "\n",
    "#     There is no z3_delta and softmax_derv(a3), as explained before.\n",
    "#     a3_delta = a3-y    \n",
    "\n",
    "#     z2_delta = a3_delta.w3.T\n",
    "#     a2_delta = z2_delta.sigmoid_derv(a2)\n",
    "\n",
    "#     z1_delta = a2_delta.w2.T\n",
    "#     a1_delta = z1_delta.sigmoid_derv(a1)\n",
    "    \n",
    "    a3_delta = cross_entropy(weights[-1], a)\n",
    "    \n",
    "    z2_delta = np.dot(a3_delta, weights[-1].T)\n",
    "    \n",
    "    a2_delta = z2_delta * relu_prime(weights[-2]) # w2\n",
    "    \n",
    "    z1_delta = np.dot(a2_delta, weights[-2].T)\n",
    "    \n",
    "    a1_delta = z1_delta * relu_prime(weights[-3]) # w1\n",
    "    \n",
    "    delta = softmax_prime(np.ones(a[-1].shape))\n",
    "    \n",
    "    \n",
    "    weights[2] -= learning_rate * np.dot(weights[1].T, a3_delta)\n",
    "    bias[2] -= learning_rate * np.sum(a3_delta, axis=0, keepdims=True)\n",
    "    weights[1] -= learning_rate * np.dot(weights[0].T, a2_delta)\n",
    "    bias[1] -= learning_rate * np.sum(a2_delta, axis=0)\n",
    "    weights[0] -= learning_rate * np.dot(X, a1_delta)\n",
    "    bias[0] -= learning_rate * np.sum(a1_delta, axis=0)\n",
    "    \n",
    "\n",
    "\n",
    "# trX, trY, teX, teY = load()\n",
    "\n",
    "training_images, training_labels, testing_images, testing_labels\n",
    "\n",
    "\n",
    "weights = [np.random.randn(*w) * 0.1 for w in [(784, 200), (200,50), (50, 10)]]\n",
    "\n",
    "bias = [np.random.randn(*w) * 0.1 for w in [(20, 200), (20,50), (20, 10)]]\n",
    "\n",
    "num_epochs, batch_size, learn_rate = 10, 20, 0.1\n",
    "\n",
    "for i in range(num_epochs):\n",
    "    for j in range(0, len(training_images), batch_size):\n",
    "        X, Y = training_images[j:j+batch_size], training_labels[j:j+batch_size]\n",
    "        \n",
    "        grads(X, Y, weights, bias)\n",
    "        \n",
    "    prediction = np.argmax(feed_forward(testing_images, weights, bias)[-1], axis=1)\n",
    "    \n",
    "    \n",
    "    print(i, np.mean(prediction == np.argmax(testing_labels, axis=1)))"
   ]
  },
  {
   "cell_type": "code",
   "execution_count": null,
   "metadata": {
    "scrolled": true
   },
   "outputs": [],
   "source": [
    "np.shape(weights[0])"
   ]
  },
  {
   "cell_type": "code",
   "execution_count": null,
   "metadata": {},
   "outputs": [],
   "source": [
    "np.shape(weights[1])"
   ]
  },
  {
   "cell_type": "code",
   "execution_count": null,
   "metadata": {},
   "outputs": [],
   "source": [
    "np.shape(weights[2])"
   ]
  },
  {
   "cell_type": "code",
   "execution_count": null,
   "metadata": {},
   "outputs": [],
   "source": []
  },
  {
   "cell_type": "code",
   "execution_count": null,
   "metadata": {},
   "outputs": [],
   "source": []
  },
  {
   "cell_type": "code",
   "execution_count": null,
   "metadata": {},
   "outputs": [],
   "source": []
  }
 ],
 "metadata": {
  "kernelspec": {
   "display_name": "Python 3",
   "language": "python",
   "name": "python3"
  },
  "language_info": {
   "codemirror_mode": {
    "name": "ipython",
    "version": 3
   },
   "file_extension": ".py",
   "mimetype": "text/x-python",
   "name": "python",
   "nbconvert_exporter": "python",
   "pygments_lexer": "ipython3",
   "version": "3.6.8"
  }
 },
 "nbformat": 4,
 "nbformat_minor": 2
}
