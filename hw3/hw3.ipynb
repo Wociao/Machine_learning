{
 "cells": [
  {
   "cell_type": "code",
   "execution_count": 60,
   "metadata": {},
   "outputs": [
    {
     "ename": "SyntaxError",
     "evalue": "invalid syntax (network.py, line 50)",
     "output_type": "error",
     "traceback": [
      "Traceback \u001b[0;36m(most recent call last)\u001b[0m:\n",
      "  File \u001b[1;32m\"/usr/local/lib/python3.6/site-packages/IPython/core/interactiveshell.py\"\u001b[0m, line \u001b[1;32m3267\u001b[0m, in \u001b[1;35mrun_code\u001b[0m\n    exec(code_obj, self.user_global_ns, self.user_ns)\n",
      "\u001b[0;36m  File \u001b[0;32m\"<ipython-input-60-84dba99126b2>\"\u001b[0;36m, line \u001b[0;32m10\u001b[0;36m, in \u001b[0;35m<module>\u001b[0;36m\u001b[0m\n\u001b[0;31m    from network import *\u001b[0m\n",
      "\u001b[0;36m  File \u001b[0;32m\"/home/yash/Documents/Machine_learning/hw3/network.py\"\u001b[0;36m, line \u001b[0;32m50\u001b[0m\n\u001b[0;31m    def\u001b[0m\n\u001b[0m       ^\u001b[0m\n\u001b[0;31mSyntaxError\u001b[0m\u001b[0;31m:\u001b[0m invalid syntax\n"
     ]
    }
   ],
   "source": [
    "import math\n",
    "import numpy as np\n",
    "# from download_mnist import load\n",
    "import operator\n",
    "import time\n",
    "from numpy import linalg as LA\n",
    "from urllib import request\n",
    "import gzip\n",
    "import pickle\n",
    "from network import *"
   ]
  },
  {
   "cell_type": "code",
   "execution_count": 11,
   "metadata": {},
   "outputs": [],
   "source": [
    "file_name = 'data/mnist.pkl'\n",
    "def load():\n",
    "    with open(file_name,'rb') as f:\n",
    "        mnist = pickle.load(f)\n",
    "    return mnist[\"training_images\"], mnist[\"training_labels\"], mnist[\"test_images\"], mnist[\"test_labels\"]\n"
   ]
  },
  {
   "cell_type": "code",
   "execution_count": 32,
   "metadata": {},
   "outputs": [],
   "source": [
    "# Load the training and testing dataset\n",
    "\n",
    "train_images, train_labels, test_images, test_labels = load()\n",
    "\n",
    "train_images = train_images.reshape(60000,28*28)\n",
    "test_images  = test_images.reshape(10000,28*28)\n",
    "# convert the data type from unint8 to float\n",
    "train_images = train_images.astype(float)\n",
    "test_images = test_images.astype(float)\n",
    "\n",
    "training_data = zip(train_images, train_labels)\n",
    "validation_data = zip(test_images, test_labels)\n"
   ]
  },
  {
   "cell_type": "code",
   "execution_count": 55,
   "metadata": {},
   "outputs": [],
   "source": [
    "# # Remove this section later\n",
    "# import pylab as plt\n",
    "# x = train_images[1].reshape(28,28)\n",
    "# plt.imshow(x)\n",
    "# print(train_labels[1])"
   ]
  },
  {
   "cell_type": "code",
   "execution_count": 59,
   "metadata": {},
   "outputs": [],
   "source": [
    "# FINAL GOAL：\n",
    "# FC(testing_input, training_dataset, training)\n",
    "\n",
    "\n",
    "# Set up the network config\n",
    "# Its structure is 784‐200‐50‐10.\n",
    "# 784 means the input layer has 784 input neurons. This is because each image in MNIST dataset is 28x28.\n",
    "# 200 and 50 are the number of neurons in hidden layers.\n",
    "# 10 is the number of neurons in output layer since there are 10 types of digits.\n",
    "# The two hidden layers are followed by ReLU layers.\n",
    "# The output layer is a softmax layer.\n",
    "\n",
    "layers = [784,200,50,10]\n",
    "\n",
    "#initialize learning rate\n",
    "learning_rate = 0.01\n",
    "\n",
    "#initialize mini batch size\n",
    "mini_batch_size = 128\n",
    "\n",
    "#initialize epoch\n",
    "epochs = 10\n",
    "\n",
    "#initialize neuralnet\n",
    "nn = NeuralNetwork(layers, learning_rate, mini_batch_size, epochs)\n",
    "\n",
    "#training neural network\n",
    "# nn.fit(train_images, train_labels)\n",
    "\n",
    "#testing neural network\n",
    "# accuracy = nn.validate(test_data) / 100.0\n",
    "# print(\"Test Accuracy: \" + str(accuracy) + \"%\")\n",
    "\n",
    "#save the model\n",
    "# nn.save()"
   ]
  },
  {
   "cell_type": "code",
   "execution_count": null,
   "metadata": {},
   "outputs": [],
   "source": []
  }
 ],
 "metadata": {
  "kernelspec": {
   "display_name": "Python 3",
   "language": "python",
   "name": "python3"
  },
  "language_info": {
   "codemirror_mode": {
    "name": "ipython",
    "version": 3
   },
   "file_extension": ".py",
   "mimetype": "text/x-python",
   "name": "python",
   "nbconvert_exporter": "python",
   "pygments_lexer": "ipython3",
   "version": "3.6.8"
  }
 },
 "nbformat": 4,
 "nbformat_minor": 2
}
